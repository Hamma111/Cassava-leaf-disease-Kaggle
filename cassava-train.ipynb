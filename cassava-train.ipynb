{
 "cells": [
  {
   "cell_type": "code",
   "execution_count": 1,
   "metadata": {
    "_cell_guid": "b1076dfc-b9ad-4769-8c92-a6c4dae69d19",
    "_uuid": "8f2839f25d086af736a60e9eeb907d3b93b6e0e5",
    "execution": {
     "iopub.execute_input": "2021-01-15T15:06:01.357457Z",
     "iopub.status.busy": "2021-01-15T15:06:01.356624Z",
     "iopub.status.idle": "2021-01-15T15:06:07.244386Z",
     "shell.execute_reply": "2021-01-15T15:06:07.242446Z"
    },
    "papermill": {
     "duration": 5.949094,
     "end_time": "2021-01-15T15:06:07.244543",
     "exception": false,
     "start_time": "2021-01-15T15:06:01.295449",
     "status": "completed"
    },
    "tags": []
   },
   "outputs": [],
   "source": [
    "# This Python 3 environment comes with many helpful analytics libraries installed\n",
    "# It is defined by the kaggle/python Docker image: https://github.com/kaggle/docker-python\n",
    "# For example, here's several helpful packages to load\n",
    "\n",
    "import numpy as np # linear algebra\n",
    "import pandas as pd # data processing, CSV file I/O (e.g. pd.read_csv)\n",
    "import matplotlib.pyplot as plt\n",
    "# Input data files are available in the read-only \"../input/\" directory\n",
    "# For example, running this (by clicking run or pressing Shift+Enter) will list all files under the input directory\n",
    "\n",
    "import os\n",
    "\n",
    "from PIL import Image\n",
    "import tensorflow as tf\n",
    "from tensorflow.keras import Model\n",
    "from tensorflow import keras\n",
    "from tensorflow.keras.layers import Conv2D, MaxPooling2D, Dense, Dropout, Activation,GlobalAveragePooling2D\n",
    "from tensorflow.keras.models import Sequential\n",
    "from tensorflow.keras.callbacks import EarlyStopping, ModelCheckpoint\n",
    "from tensorflow.keras.optimizers import Adam\n",
    "from tensorflow.keras.preprocessing.image import ImageDataGenerator\n",
    "\n",
    "# You can write up to 20GB to the current directory (/kaggle/working/) that gets preserved as output when you create a version using \"Save & Run All\" \n",
    "# You can also write temporary files to /kaggle/temp/, but they won't be saved outside of the current session"
   ]
  },
  {
   "cell_type": "code",
   "execution_count": 2,
   "metadata": {
    "execution": {
     "iopub.execute_input": "2021-01-15T15:06:07.379007Z",
     "iopub.status.busy": "2021-01-15T15:06:07.377988Z",
     "iopub.status.idle": "2021-01-15T15:06:07.752129Z",
     "shell.execute_reply": "2021-01-15T15:06:07.752818Z"
    },
    "papermill": {
     "duration": 0.432539,
     "end_time": "2021-01-15T15:06:07.752999",
     "exception": false,
     "start_time": "2021-01-15T15:06:07.320460",
     "status": "completed"
    },
    "tags": []
   },
   "outputs": [],
   "source": [
    "train = pd.read_csv('../input/cassava-leaf-disease-classification/train.csv')\n",
    "diseaseMapping = pd.read_json('../input/cassava-leaf-disease-classification/label_num_to_disease_map.json', typ='series')"
   ]
  },
  {
   "cell_type": "code",
   "execution_count": 3,
   "metadata": {
    "execution": {
     "iopub.execute_input": "2021-01-15T15:06:07.858956Z",
     "iopub.status.busy": "2021-01-15T15:06:07.855061Z",
     "iopub.status.idle": "2021-01-15T15:06:07.862804Z",
     "shell.execute_reply": "2021-01-15T15:06:07.862007Z"
    },
    "papermill": {
     "duration": 0.063717,
     "end_time": "2021-01-15T15:06:07.862930",
     "exception": false,
     "start_time": "2021-01-15T15:06:07.799213",
     "status": "completed"
    },
    "tags": []
   },
   "outputs": [
    {
     "data": {
      "text/plain": [
       "0         Cassava Bacterial Blight (CBB)\n",
       "1    Cassava Brown Streak Disease (CBSD)\n",
       "2             Cassava Green Mottle (CGM)\n",
       "3           Cassava Mosaic Disease (CMD)\n",
       "4                                Healthy\n",
       "dtype: object"
      ]
     },
     "execution_count": 3,
     "metadata": {},
     "output_type": "execute_result"
    }
   ],
   "source": [
    "diseaseMapping"
   ]
  },
  {
   "cell_type": "code",
   "execution_count": 4,
   "metadata": {
    "execution": {
     "iopub.execute_input": "2021-01-15T15:06:07.960912Z",
     "iopub.status.busy": "2021-01-15T15:06:07.960006Z",
     "iopub.status.idle": "2021-01-15T15:06:07.962252Z",
     "shell.execute_reply": "2021-01-15T15:06:07.961628Z"
    },
    "papermill": {
     "duration": 0.05295,
     "end_time": "2021-01-15T15:06:07.962406",
     "exception": false,
     "start_time": "2021-01-15T15:06:07.909456",
     "status": "completed"
    },
    "tags": []
   },
   "outputs": [],
   "source": [
    "# train = pd.concat([train.image_id, pd.get_dummies(train.label)], axis=1)"
   ]
  },
  {
   "cell_type": "code",
   "execution_count": 5,
   "metadata": {
    "execution": {
     "iopub.execute_input": "2021-01-15T15:06:08.071510Z",
     "iopub.status.busy": "2021-01-15T15:06:08.070458Z",
     "iopub.status.idle": "2021-01-15T15:06:08.077936Z",
     "shell.execute_reply": "2021-01-15T15:06:08.078559Z"
    },
    "papermill": {
     "duration": 0.070712,
     "end_time": "2021-01-15T15:06:08.078744",
     "exception": false,
     "start_time": "2021-01-15T15:06:08.008032",
     "status": "completed"
    },
    "tags": []
   },
   "outputs": [],
   "source": [
    "train.image_id = \"../input/cassava-leaf-disease-classification/train_images/\" + train.image_id"
   ]
  },
  {
   "cell_type": "code",
   "execution_count": 6,
   "metadata": {
    "execution": {
     "iopub.execute_input": "2021-01-15T15:06:08.173425Z",
     "iopub.status.busy": "2021-01-15T15:06:08.172352Z",
     "iopub.status.idle": "2021-01-15T15:06:08.177666Z",
     "shell.execute_reply": "2021-01-15T15:06:08.177004Z"
    },
    "papermill": {
     "duration": 0.044908,
     "end_time": "2021-01-15T15:06:08.177788",
     "exception": false,
     "start_time": "2021-01-15T15:06:08.132880",
     "status": "completed"
    },
    "tags": []
   },
   "outputs": [
    {
     "data": {
      "text/plain": [
       "(21397, 2)"
      ]
     },
     "execution_count": 6,
     "metadata": {},
     "output_type": "execute_result"
    }
   ],
   "source": [
    "train.shape"
   ]
  },
  {
   "cell_type": "code",
   "execution_count": 7,
   "metadata": {
    "execution": {
     "iopub.execute_input": "2021-01-15T15:06:08.265693Z",
     "iopub.status.busy": "2021-01-15T15:06:08.264760Z",
     "iopub.status.idle": "2021-01-15T15:06:08.272418Z",
     "shell.execute_reply": "2021-01-15T15:06:08.272916Z"
    },
    "papermill": {
     "duration": 0.057434,
     "end_time": "2021-01-15T15:06:08.273041",
     "exception": false,
     "start_time": "2021-01-15T15:06:08.215607",
     "status": "completed"
    },
    "tags": []
   },
   "outputs": [
    {
     "data": {
      "text/html": [
       "<div>\n",
       "<style scoped>\n",
       "    .dataframe tbody tr th:only-of-type {\n",
       "        vertical-align: middle;\n",
       "    }\n",
       "\n",
       "    .dataframe tbody tr th {\n",
       "        vertical-align: top;\n",
       "    }\n",
       "\n",
       "    .dataframe thead th {\n",
       "        text-align: right;\n",
       "    }\n",
       "</style>\n",
       "<table border=\"1\" class=\"dataframe\">\n",
       "  <thead>\n",
       "    <tr style=\"text-align: right;\">\n",
       "      <th></th>\n",
       "      <th>image_id</th>\n",
       "      <th>label</th>\n",
       "    </tr>\n",
       "  </thead>\n",
       "  <tbody>\n",
       "    <tr>\n",
       "      <th>0</th>\n",
       "      <td>../input/cassava-leaf-disease-classification/t...</td>\n",
       "      <td>0</td>\n",
       "    </tr>\n",
       "    <tr>\n",
       "      <th>1</th>\n",
       "      <td>../input/cassava-leaf-disease-classification/t...</td>\n",
       "      <td>3</td>\n",
       "    </tr>\n",
       "    <tr>\n",
       "      <th>2</th>\n",
       "      <td>../input/cassava-leaf-disease-classification/t...</td>\n",
       "      <td>1</td>\n",
       "    </tr>\n",
       "    <tr>\n",
       "      <th>3</th>\n",
       "      <td>../input/cassava-leaf-disease-classification/t...</td>\n",
       "      <td>1</td>\n",
       "    </tr>\n",
       "    <tr>\n",
       "      <th>4</th>\n",
       "      <td>../input/cassava-leaf-disease-classification/t...</td>\n",
       "      <td>3</td>\n",
       "    </tr>\n",
       "  </tbody>\n",
       "</table>\n",
       "</div>"
      ],
      "text/plain": [
       "                                            image_id  label\n",
       "0  ../input/cassava-leaf-disease-classification/t...      0\n",
       "1  ../input/cassava-leaf-disease-classification/t...      3\n",
       "2  ../input/cassava-leaf-disease-classification/t...      1\n",
       "3  ../input/cassava-leaf-disease-classification/t...      1\n",
       "4  ../input/cassava-leaf-disease-classification/t...      3"
      ]
     },
     "execution_count": 7,
     "metadata": {},
     "output_type": "execute_result"
    }
   ],
   "source": [
    "train.head()"
   ]
  },
  {
   "cell_type": "code",
   "execution_count": 8,
   "metadata": {
    "execution": {
     "iopub.execute_input": "2021-01-15T15:06:08.359413Z",
     "iopub.status.busy": "2021-01-15T15:06:08.358627Z",
     "iopub.status.idle": "2021-01-15T15:06:08.362475Z",
     "shell.execute_reply": "2021-01-15T15:06:08.361929Z"
    },
    "papermill": {
     "duration": 0.052137,
     "end_time": "2021-01-15T15:06:08.362579",
     "exception": false,
     "start_time": "2021-01-15T15:06:08.310442",
     "status": "completed"
    },
    "tags": []
   },
   "outputs": [],
   "source": [
    "outliers = ['1021758544.jpg','1057462029.jpg','1430955699.jpg', '269713568.jpg','501215014.jpg','490603548.jpg',\n",
    "     '501215014.jpg','413912363.jpg','314640668.jpg','421035788.jpg','723564013.jpg','891874541.jpg',\n",
    "     '1014492188.jpg','1339403533.jpg','2229847111.jpg','2345003518.jpg','2489013604.jpg',\n",
    "     '2605464541.jpg','2629773376.jpg','3379826408.jpg','1917903934.jpg','1981678917.jpg',\n",
    "     '2098671662.jpg','2099754293.jpg','314640668.jpg', '421035788.jpg','413912363.jpg','501215014.jpg',\n",
    "     '490603548.jpg','4214804223.jpg', '4134583704.jpg', '597389720.jpg','1179237425.jpg','1703248268.jpg',\n",
    "     '1973109559.jpg','3086663390.jpg','3421208425.jpg','65139094.jpg','214745223.jpg','277532565.jpg',\n",
    "     '357924077.jpg','544532198.jpg','725034194.jpg','1277049682.jpg','1963744346.jpg','2669409913.jpg',\n",
    "     '2801552324.jpg','3442406076.jpg','3513851865.jpg','3523980600.jpg','3550082135.jpg',\n",
    "     '3731977760.jpg','3844650986.jpg','4252095621.jpg','4280523848.jpg','249686764.jpg','420749600.jpg',\n",
    "     '384390206.jpg','744383303.jpg','1096438409.jpg','1119403430.jpg','1190399034.jpg','1709404074.jpg',\n",
    "     '3350363363.jpg','3571405769.jpg','3746679490.jpg','3724956866.jpg','4044550421.jpg',\n",
    "     '4072965036.jpg','4177958446.jpg','4280091186.jpg']"
   ]
  },
  {
   "cell_type": "code",
   "execution_count": 9,
   "metadata": {
    "execution": {
     "iopub.execute_input": "2021-01-15T15:06:08.704919Z",
     "iopub.status.busy": "2021-01-15T15:06:08.704111Z",
     "iopub.status.idle": "2021-01-15T15:06:09.153066Z",
     "shell.execute_reply": "2021-01-15T15:06:09.152243Z"
    },
    "papermill": {
     "duration": 0.752152,
     "end_time": "2021-01-15T15:06:09.153195",
     "exception": false,
     "start_time": "2021-01-15T15:06:08.401043",
     "status": "completed"
    },
    "tags": []
   },
   "outputs": [
    {
     "ename": "IndexError",
     "evalue": "index 0 is out of bounds for axis 0 with size 0",
     "output_type": "error",
     "traceback": [
      "\u001b[0;31m---------------------------------------------------------------------------\u001b[0m",
      "\u001b[0;31mIndexError\u001b[0m                                Traceback (most recent call last)",
      "\u001b[0;32m<ipython-input-9-6702f8244e98>\u001b[0m in \u001b[0;36m<module>\u001b[0;34m\u001b[0m\n\u001b[1;32m      1\u001b[0m \u001b[0moutliers\u001b[0m \u001b[0;34m=\u001b[0m \u001b[0;34m[\u001b[0m\u001b[0mtrain\u001b[0m\u001b[0;34m[\u001b[0m\u001b[0mtrain\u001b[0m\u001b[0;34m.\u001b[0m\u001b[0mimage_id\u001b[0m \u001b[0;34m==\u001b[0m \u001b[0mx\u001b[0m\u001b[0;34m]\u001b[0m\u001b[0;34m.\u001b[0m\u001b[0mindex\u001b[0m \u001b[0;32mfor\u001b[0m \u001b[0mx\u001b[0m \u001b[0;32min\u001b[0m \u001b[0moutliers\u001b[0m\u001b[0;34m]\u001b[0m\u001b[0;34m\u001b[0m\u001b[0;34m\u001b[0m\u001b[0m\n\u001b[0;32m----> 2\u001b[0;31m \u001b[0moutliers\u001b[0m \u001b[0;34m=\u001b[0m \u001b[0;34m[\u001b[0m\u001b[0mx\u001b[0m\u001b[0;34m.\u001b[0m\u001b[0mvalues\u001b[0m\u001b[0;34m[\u001b[0m\u001b[0;36m0\u001b[0m\u001b[0;34m]\u001b[0m \u001b[0;32mfor\u001b[0m \u001b[0mx\u001b[0m \u001b[0;32min\u001b[0m \u001b[0moutliers\u001b[0m\u001b[0;34m]\u001b[0m\u001b[0;34m\u001b[0m\u001b[0;34m\u001b[0m\u001b[0m\n\u001b[0m\u001b[1;32m      3\u001b[0m \u001b[0mtrain\u001b[0m\u001b[0;34m.\u001b[0m\u001b[0mdrop\u001b[0m\u001b[0;34m(\u001b[0m\u001b[0moutliers\u001b[0m\u001b[0;34m,\u001b[0m \u001b[0maxis\u001b[0m\u001b[0;34m=\u001b[0m\u001b[0;36m0\u001b[0m\u001b[0;34m,\u001b[0m \u001b[0minplace\u001b[0m\u001b[0;34m=\u001b[0m\u001b[0;32mTrue\u001b[0m\u001b[0;34m)\u001b[0m\u001b[0;34m\u001b[0m\u001b[0;34m\u001b[0m\u001b[0m\n",
      "\u001b[0;32m<ipython-input-9-6702f8244e98>\u001b[0m in \u001b[0;36m<listcomp>\u001b[0;34m(.0)\u001b[0m\n\u001b[1;32m      1\u001b[0m \u001b[0moutliers\u001b[0m \u001b[0;34m=\u001b[0m \u001b[0;34m[\u001b[0m\u001b[0mtrain\u001b[0m\u001b[0;34m[\u001b[0m\u001b[0mtrain\u001b[0m\u001b[0;34m.\u001b[0m\u001b[0mimage_id\u001b[0m \u001b[0;34m==\u001b[0m \u001b[0mx\u001b[0m\u001b[0;34m]\u001b[0m\u001b[0;34m.\u001b[0m\u001b[0mindex\u001b[0m \u001b[0;32mfor\u001b[0m \u001b[0mx\u001b[0m \u001b[0;32min\u001b[0m \u001b[0moutliers\u001b[0m\u001b[0;34m]\u001b[0m\u001b[0;34m\u001b[0m\u001b[0;34m\u001b[0m\u001b[0m\n\u001b[0;32m----> 2\u001b[0;31m \u001b[0moutliers\u001b[0m \u001b[0;34m=\u001b[0m \u001b[0;34m[\u001b[0m\u001b[0mx\u001b[0m\u001b[0;34m.\u001b[0m\u001b[0mvalues\u001b[0m\u001b[0;34m[\u001b[0m\u001b[0;36m0\u001b[0m\u001b[0;34m]\u001b[0m \u001b[0;32mfor\u001b[0m \u001b[0mx\u001b[0m \u001b[0;32min\u001b[0m \u001b[0moutliers\u001b[0m\u001b[0;34m]\u001b[0m\u001b[0;34m\u001b[0m\u001b[0;34m\u001b[0m\u001b[0m\n\u001b[0m\u001b[1;32m      3\u001b[0m \u001b[0mtrain\u001b[0m\u001b[0;34m.\u001b[0m\u001b[0mdrop\u001b[0m\u001b[0;34m(\u001b[0m\u001b[0moutliers\u001b[0m\u001b[0;34m,\u001b[0m \u001b[0maxis\u001b[0m\u001b[0;34m=\u001b[0m\u001b[0;36m0\u001b[0m\u001b[0;34m,\u001b[0m \u001b[0minplace\u001b[0m\u001b[0;34m=\u001b[0m\u001b[0;32mTrue\u001b[0m\u001b[0;34m)\u001b[0m\u001b[0;34m\u001b[0m\u001b[0;34m\u001b[0m\u001b[0m\n",
      "\u001b[0;31mIndexError\u001b[0m: index 0 is out of bounds for axis 0 with size 0"
     ]
    }
   ],
   "source": [
    "outliers = [train[train.image_id == x].index for x in outliers]\n",
    "outliers = [x.values[0] for x in outliers]\n",
    "train.drop(outliers, axis=0, inplace=True)"
   ]
  },
  {
   "cell_type": "code",
   "execution_count": 10,
   "metadata": {
    "execution": {
     "iopub.execute_input": "2021-01-15T15:06:09.241971Z",
     "iopub.status.busy": "2021-01-15T15:06:09.241268Z",
     "iopub.status.idle": "2021-01-15T15:06:09.245810Z",
     "shell.execute_reply": "2021-01-15T15:06:09.245138Z"
    },
    "papermill": {
     "duration": 0.050583,
     "end_time": "2021-01-15T15:06:09.245920",
     "exception": false,
     "start_time": "2021-01-15T15:06:09.195337",
     "status": "completed"
    },
    "tags": []
   },
   "outputs": [],
   "source": [
    "Train_Data = ImageDataGenerator(rescale=1/255.,\n",
    "                                validation_split=0.2,\n",
    "#                                 rotation_range=90,\n",
    "#                                 width_shift_range=0.2,\n",
    "#                                 height_shift_range=0.2,\n",
    "                                horizontal_flip=True,\n",
    "                                vertical_flip=True,\n",
    "                             )"
   ]
  },
  {
   "cell_type": "code",
   "execution_count": 11,
   "metadata": {
    "execution": {
     "iopub.execute_input": "2021-01-15T15:06:09.328656Z",
     "iopub.status.busy": "2021-01-15T15:06:09.327846Z",
     "iopub.status.idle": "2021-01-15T15:06:09.332732Z",
     "shell.execute_reply": "2021-01-15T15:06:09.332067Z"
    },
    "papermill": {
     "duration": 0.048984,
     "end_time": "2021-01-15T15:06:09.332859",
     "exception": false,
     "start_time": "2021-01-15T15:06:09.283875",
     "status": "completed"
    },
    "tags": []
   },
   "outputs": [],
   "source": [
    "image_shape = (460, 460)\n",
    "step_size = 17066  // 32\n",
    "val_step = 4266  // 32\n",
    "NUM_CLASSES = 5"
   ]
  },
  {
   "cell_type": "code",
   "execution_count": 12,
   "metadata": {
    "execution": {
     "iopub.execute_input": "2021-01-15T15:06:09.443153Z",
     "iopub.status.busy": "2021-01-15T15:06:09.415651Z",
     "iopub.status.idle": "2021-01-15T15:06:09.446702Z",
     "shell.execute_reply": "2021-01-15T15:06:09.446203Z"
    },
    "papermill": {
     "duration": 0.075784,
     "end_time": "2021-01-15T15:06:09.446814",
     "exception": false,
     "start_time": "2021-01-15T15:06:09.371030",
     "status": "completed"
    },
    "tags": []
   },
   "outputs": [],
   "source": [
    "train.label = train.label.astype('str')"
   ]
  },
  {
   "cell_type": "code",
   "execution_count": 13,
   "metadata": {
    "execution": {
     "iopub.execute_input": "2021-01-15T15:06:09.531466Z",
     "iopub.status.busy": "2021-01-15T15:06:09.530540Z",
     "iopub.status.idle": "2021-01-15T15:06:28.535014Z",
     "shell.execute_reply": "2021-01-15T15:06:28.536211Z"
    },
    "papermill": {
     "duration": 19.051374,
     "end_time": "2021-01-15T15:06:28.536425",
     "exception": false,
     "start_time": "2021-01-15T15:06:09.485051",
     "status": "completed"
    },
    "tags": []
   },
   "outputs": [
    {
     "name": "stdout",
     "output_type": "stream",
     "text": [
      "Found 17118 validated image filenames belonging to 5 classes.\n"
     ]
    }
   ],
   "source": [
    "train_set = Train_Data.flow_from_dataframe(\n",
    "        dataframe = train,\n",
    "        x_col=\"image_id\",\n",
    "        y_col=\"label\",\n",
    "        shuffle=True,\n",
    "        batch_size=32,\n",
    "        subset=\"training\",\n",
    "        target_size=image_shape,\n",
    "        class_mode=\"categorical\"\n",
    "    )"
   ]
  },
  {
   "cell_type": "code",
   "execution_count": 14,
   "metadata": {
    "execution": {
     "iopub.execute_input": "2021-01-15T15:06:28.679721Z",
     "iopub.status.busy": "2021-01-15T15:06:28.679074Z",
     "iopub.status.idle": "2021-01-15T15:06:40.282989Z",
     "shell.execute_reply": "2021-01-15T15:06:40.283793Z"
    },
    "papermill": {
     "duration": 11.682514,
     "end_time": "2021-01-15T15:06:40.284020",
     "exception": false,
     "start_time": "2021-01-15T15:06:28.601506",
     "status": "completed"
    },
    "tags": []
   },
   "outputs": [
    {
     "name": "stdout",
     "output_type": "stream",
     "text": [
      "Found 4279 validated image filenames belonging to 5 classes.\n"
     ]
    }
   ],
   "source": [
    "validation_set = Train_Data.flow_from_dataframe(\n",
    "        dataframe = train,\n",
    "        x_col=\"image_id\",\n",
    "        y_col=\"label\",\n",
    "        shuffle=True,\n",
    "        batch_size=32,\n",
    "        subset=\"validation\",\n",
    "        target_size =image_shape,\n",
    "        class_mode=\"categorical\"\n",
    "    )"
   ]
  },
  {
   "cell_type": "code",
   "execution_count": 15,
   "metadata": {
    "execution": {
     "iopub.execute_input": "2021-01-15T15:06:40.377211Z",
     "iopub.status.busy": "2021-01-15T15:06:40.376457Z",
     "iopub.status.idle": "2021-01-15T15:06:40.381178Z",
     "shell.execute_reply": "2021-01-15T15:06:40.380581Z"
    },
    "papermill": {
     "duration": 0.049786,
     "end_time": "2021-01-15T15:06:40.381294",
     "exception": false,
     "start_time": "2021-01-15T15:06:40.331508",
     "status": "completed"
    },
    "tags": []
   },
   "outputs": [],
   "source": [
    "# plt.imshow(train_set.next()[0][0])"
   ]
  },
  {
   "cell_type": "code",
   "execution_count": 16,
   "metadata": {
    "execution": {
     "iopub.execute_input": "2021-01-15T15:06:40.467107Z",
     "iopub.status.busy": "2021-01-15T15:06:40.466376Z",
     "iopub.status.idle": "2021-01-15T15:06:40.470965Z",
     "shell.execute_reply": "2021-01-15T15:06:40.470212Z"
    },
    "papermill": {
     "duration": 0.046729,
     "end_time": "2021-01-15T15:06:40.471091",
     "exception": false,
     "start_time": "2021-01-15T15:06:40.424362",
     "status": "completed"
    },
    "tags": []
   },
   "outputs": [],
   "source": [
    "# current_balance = train['label'].value_counts(normalize=True)\n",
    "# class_weight = {0: (1 - current_balance['0']) / (1 - current_balance.min()),\n",
    "#                 1: (1 - current_balance['1']) / (1 - current_balance.min()),\n",
    "#                 2: (1 - current_balance['2']) / (1 - current_balance.min()),\n",
    "#                 3: (1 - current_balance['3']) / (1 - current_balance.min()),\n",
    "#                 4: (1 - current_balance['4']) / (1 - current_balance.min())}\n",
    "\n",
    "# class_weight"
   ]
  },
  {
   "cell_type": "code",
   "execution_count": 17,
   "metadata": {
    "execution": {
     "iopub.execute_input": "2021-01-15T15:06:40.557185Z",
     "iopub.status.busy": "2021-01-15T15:06:40.556225Z",
     "iopub.status.idle": "2021-01-15T15:06:40.560675Z",
     "shell.execute_reply": "2021-01-15T15:06:40.560062Z"
    },
    "papermill": {
     "duration": 0.050742,
     "end_time": "2021-01-15T15:06:40.560788",
     "exception": false,
     "start_time": "2021-01-15T15:06:40.510046",
     "status": "completed"
    },
    "tags": []
   },
   "outputs": [],
   "source": [
    "class_weight = {3: 0.4056622353520434,\n",
    "4: 0.9266371245691778,\n",
    "2: 0.9360413589364845,\n",
    "1: 0.9457410142786805,\n",
    "0: 1.0}"
   ]
  },
  {
   "cell_type": "code",
   "execution_count": null,
   "metadata": {
    "papermill": {
     "duration": 0.040287,
     "end_time": "2021-01-15T15:06:40.640472",
     "exception": false,
     "start_time": "2021-01-15T15:06:40.600185",
     "status": "completed"
    },
    "tags": []
   },
   "outputs": [],
   "source": []
  },
  {
   "cell_type": "code",
   "execution_count": null,
   "metadata": {
    "papermill": {
     "duration": 0.038031,
     "end_time": "2021-01-15T15:06:40.718973",
     "exception": false,
     "start_time": "2021-01-15T15:06:40.680942",
     "status": "completed"
    },
    "tags": []
   },
   "outputs": [],
   "source": []
  },
  {
   "cell_type": "code",
   "execution_count": 18,
   "metadata": {
    "execution": {
     "iopub.execute_input": "2021-01-15T15:06:40.800970Z",
     "iopub.status.busy": "2021-01-15T15:06:40.799998Z",
     "iopub.status.idle": "2021-01-15T15:06:40.803091Z",
     "shell.execute_reply": "2021-01-15T15:06:40.802611Z"
    },
    "papermill": {
     "duration": 0.045977,
     "end_time": "2021-01-15T15:06:40.803187",
     "exception": false,
     "start_time": "2021-01-15T15:06:40.757210",
     "status": "completed"
    },
    "tags": []
   },
   "outputs": [],
   "source": [
    "# model = tf.keras.Sequential([\n",
    "#     ## Batch 1\n",
    "# #     tf.keras.layers.Conv2D(32, (5,5), activation='relu', input_shape = (224, 224, 3), padding='same'),\n",
    "# #     tf.keras.layers.MaxPooling2D(4, 4),\n",
    "# #     tf.keras.layers.Conv2D(64, (3,3), activation='relu', padding='same'),\n",
    "# #     tf.keras.layers.MaxPooling2D(2, 2),\n",
    "    \n",
    "# #     ## Batch 2\n",
    "# #     tf.keras.layers.Conv2D(128, (3,3), activation='relu', padding='same'),\n",
    "# #     tf.keras.layers.Conv2D(128, (3,3), activation='relu', padding='same'),\n",
    "# #     tf.keras.layers.MaxPooling2D(2, 2),\n",
    "    \n",
    "# #     ## Batch 3\n",
    "# #     tf.keras.layers.Conv2D(256, (3,3), activation='relu', padding='same'),\n",
    "# #     tf.keras.layers.Conv2D(256, (3,3), activation='relu', padding='same'),\n",
    "# #     tf.keras.layers.Conv2D(256, (3,3), activation='relu', padding='same'),\n",
    "# #     tf.keras.layers.MaxPooling2D(2, 2),\n",
    "    \n",
    "# #     ## Batch 4\n",
    "# #     tf.keras.layers.Conv2D(512, (3,3), activation='relu', padding='same'),\n",
    "# #     tf.keras.layers.Conv2D(512, (3,3), activation='relu', padding='same'),\n",
    "# #     tf.keras.layers.Conv2D(512, (3,3), activation='relu', padding='same'),\n",
    "# #     tf.keras.layers.MaxPooling2D(2, 2),\n",
    "    \n",
    "# # #     ## Batch 5\n",
    "# #     tf.keras.layers.Conv2D(512, (3,3), activation='relu', padding='same'),\n",
    "# #     tf.keras.layers.Conv2D(512, (3,3), activation='relu', padding='same'),\n",
    "# #     tf.keras.layers.Conv2D(512, (3,3), activation='relu', padding='same'),\n",
    "# #     tf.keras.layers.MaxPooling2D(2, 2),\n",
    "    \n",
    "    \n",
    "#     tf.keras.layers.InputLayer(input_shape = (224, 224, 3)),\n",
    "    \n",
    "#     ## Batch 6\n",
    "#     tf.keras.layers.Flatten(),    \n",
    "#     tf.keras.layers.Dense(1024, activation='relu'),\n",
    "#     tf.keras.layers.Dropout(0.3),\n",
    "#     tf.keras.layers.Dense(1024, activation='relu'),\n",
    "#     tf.keras.layers.Dropout(0.3),\n",
    "#     tf.keras.layers.Dense(1024, activation='relu'),\n",
    "#     tf.keras.layers.Dropout(0.3),\n",
    "    \n",
    "#     tf.keras.layers.Dense(NUM_CLASSES, activation='softmax')     \n",
    "# ])\n",
    "\n",
    "\n",
    "# model.compile(loss = 'categorical_crossentropy', optimizer='adam', \n",
    "#               metrics=['accuracy'])"
   ]
  },
  {
   "cell_type": "code",
   "execution_count": 19,
   "metadata": {
    "execution": {
     "iopub.execute_input": "2021-01-15T15:06:40.881760Z",
     "iopub.status.busy": "2021-01-15T15:06:40.881002Z",
     "iopub.status.idle": "2021-01-15T15:06:40.883503Z",
     "shell.execute_reply": "2021-01-15T15:06:40.884075Z"
    },
    "papermill": {
     "duration": 0.043353,
     "end_time": "2021-01-15T15:06:40.884210",
     "exception": false,
     "start_time": "2021-01-15T15:06:40.840857",
     "status": "completed"
    },
    "tags": []
   },
   "outputs": [],
   "source": [
    "# history = model.fit(train_set, validation_data=validation_set, epochs=8,\n",
    "#                     steps_per_epoch=step_size, validation_steps=val_step)"
   ]
  },
  {
   "cell_type": "code",
   "execution_count": null,
   "metadata": {
    "papermill": {
     "duration": 0.038102,
     "end_time": "2021-01-15T15:06:40.962345",
     "exception": false,
     "start_time": "2021-01-15T15:06:40.924243",
     "status": "completed"
    },
    "tags": []
   },
   "outputs": [],
   "source": []
  },
  {
   "cell_type": "code",
   "execution_count": 20,
   "metadata": {
    "execution": {
     "iopub.execute_input": "2021-01-15T15:06:41.051568Z",
     "iopub.status.busy": "2021-01-15T15:06:41.050887Z",
     "iopub.status.idle": "2021-01-15T15:06:46.169608Z",
     "shell.execute_reply": "2021-01-15T15:06:46.168549Z"
    },
    "papermill": {
     "duration": 5.168826,
     "end_time": "2021-01-15T15:06:46.169734",
     "exception": false,
     "start_time": "2021-01-15T15:06:41.000908",
     "status": "completed"
    },
    "tags": []
   },
   "outputs": [],
   "source": [
    "base_model = tf.keras.applications.MobileNetV2(input_shape=(460,460,3),\n",
    "                                               include_top=False,\n",
    "                                               weights=None,\n",
    "                                                pooling='avg'\n",
    "                                              ) \n",
    "# base_model.trainable = False\n",
    "\n",
    "add_model = Sequential() \n",
    "add_model.add(base_model)\n",
    "\n",
    "add_model.add(Dense(1024, activation='relu'))\n",
    "add_model.add(Dropout(0.5))\n",
    "\n",
    "add_model.add(Dense(NUM_CLASSES, activation='softmax')) \n",
    "\n",
    "model = add_model "
   ]
  },
  {
   "cell_type": "code",
   "execution_count": 21,
   "metadata": {
    "execution": {
     "iopub.execute_input": "2021-01-15T15:06:46.280869Z",
     "iopub.status.busy": "2021-01-15T15:06:46.280181Z",
     "iopub.status.idle": "2021-01-15T15:06:46.286046Z",
     "shell.execute_reply": "2021-01-15T15:06:46.285390Z"
    },
    "papermill": {
     "duration": 0.07424,
     "end_time": "2021-01-15T15:06:46.286175",
     "exception": false,
     "start_time": "2021-01-15T15:06:46.211935",
     "status": "completed"
    },
    "tags": []
   },
   "outputs": [
    {
     "name": "stdout",
     "output_type": "stream",
     "text": [
      "Model: \"sequential\"\n",
      "_________________________________________________________________\n",
      "Layer (type)                 Output Shape              Param #   \n",
      "=================================================================\n",
      "mobilenetv2_1.00_460 (Functi (None, 1280)              2257984   \n",
      "_________________________________________________________________\n",
      "dense (Dense)                (None, 1024)              1311744   \n",
      "_________________________________________________________________\n",
      "dropout (Dropout)            (None, 1024)              0         \n",
      "_________________________________________________________________\n",
      "dense_1 (Dense)              (None, 5)                 5125      \n",
      "=================================================================\n",
      "Total params: 3,574,853\n",
      "Trainable params: 3,540,741\n",
      "Non-trainable params: 34,112\n",
      "_________________________________________________________________\n"
     ]
    }
   ],
   "source": [
    "model.summary() "
   ]
  },
  {
   "cell_type": "code",
   "execution_count": 22,
   "metadata": {
    "execution": {
     "iopub.execute_input": "2021-01-15T15:06:46.394226Z",
     "iopub.status.busy": "2021-01-15T15:06:46.392896Z",
     "iopub.status.idle": "2021-01-15T15:06:46.402422Z",
     "shell.execute_reply": "2021-01-15T15:06:46.401718Z"
    },
    "papermill": {
     "duration": 0.066848,
     "end_time": "2021-01-15T15:06:46.402541",
     "exception": false,
     "start_time": "2021-01-15T15:06:46.335693",
     "status": "completed"
    },
    "tags": []
   },
   "outputs": [],
   "source": [
    "model.compile(optimizer = 'adam', \n",
    "              loss = 'categorical_crossentropy', \n",
    "              metrics = ['accuracy']) "
   ]
  },
  {
   "cell_type": "code",
   "execution_count": 23,
   "metadata": {
    "execution": {
     "iopub.execute_input": "2021-01-15T15:06:46.493228Z",
     "iopub.status.busy": "2021-01-15T15:06:46.492571Z",
     "iopub.status.idle": "2021-01-15T18:56:52.456439Z",
     "shell.execute_reply": "2021-01-15T18:56:52.457210Z"
    },
    "papermill": {
     "duration": 13806.012689,
     "end_time": "2021-01-15T18:56:52.457456",
     "exception": false,
     "start_time": "2021-01-15T15:06:46.444767",
     "status": "completed"
    },
    "tags": []
   },
   "outputs": [
    {
     "name": "stdout",
     "output_type": "stream",
     "text": [
      "Epoch 1/30\n",
      "533/533 [==============================] - 513s 962ms/step - loss: 0.8480 - accuracy: 0.5874 - val_loss: 1.3375 - val_accuracy: 0.6163\n",
      "Epoch 2/30\n",
      "533/533 [==============================] - 442s 829ms/step - loss: 0.7328 - accuracy: 0.6254 - val_loss: 1.5981 - val_accuracy: 0.1151\n",
      "Epoch 3/30\n",
      "533/533 [==============================] - 439s 824ms/step - loss: 0.6934 - accuracy: 0.6533 - val_loss: 2.2826 - val_accuracy: 0.1156\n",
      "Epoch 4/30\n",
      "533/533 [==============================] - 443s 831ms/step - loss: 0.6593 - accuracy: 0.6723 - val_loss: 2.3691 - val_accuracy: 0.1158\n",
      "Epoch 5/30\n",
      "533/533 [==============================] - 439s 823ms/step - loss: 0.6341 - accuracy: 0.6871 - val_loss: 2.9320 - val_accuracy: 0.1156\n",
      "Epoch 6/30\n",
      "533/533 [==============================] - 448s 840ms/step - loss: 0.6035 - accuracy: 0.7102 - val_loss: 2.1511 - val_accuracy: 0.1194\n",
      "Epoch 7/30\n",
      "533/533 [==============================] - 449s 842ms/step - loss: 0.5639 - accuracy: 0.7370 - val_loss: 2.6978 - val_accuracy: 0.1541\n",
      "Epoch 8/30\n",
      "533/533 [==============================] - 451s 846ms/step - loss: 0.5333 - accuracy: 0.7564 - val_loss: 6.8927 - val_accuracy: 0.1642\n",
      "Epoch 9/30\n",
      "533/533 [==============================] - 528s 990ms/step - loss: 0.5051 - accuracy: 0.7689 - val_loss: 5.0738 - val_accuracy: 0.1252\n",
      "Epoch 10/30\n",
      "533/533 [==============================] - 453s 851ms/step - loss: 0.4890 - accuracy: 0.7777 - val_loss: 2.4070 - val_accuracy: 0.6234\n",
      "Epoch 11/30\n",
      "533/533 [==============================] - 459s 862ms/step - loss: 0.4775 - accuracy: 0.7867 - val_loss: 1.9392 - val_accuracy: 0.6788\n",
      "Epoch 12/30\n",
      "533/533 [==============================] - 457s 858ms/step - loss: 0.4664 - accuracy: 0.7911 - val_loss: 3.3634 - val_accuracy: 0.6311\n",
      "Epoch 13/30\n",
      "533/533 [==============================] - 457s 858ms/step - loss: 0.4518 - accuracy: 0.7963 - val_loss: 1.0214 - val_accuracy: 0.7310\n",
      "Epoch 14/30\n",
      "533/533 [==============================] - 460s 864ms/step - loss: 0.4391 - accuracy: 0.8076 - val_loss: 2.5799 - val_accuracy: 0.6628\n",
      "Epoch 15/30\n",
      "533/533 [==============================] - 460s 863ms/step - loss: 0.4269 - accuracy: 0.8109 - val_loss: 1.9810 - val_accuracy: 0.5169\n",
      "Epoch 16/30\n",
      "533/533 [==============================] - 459s 862ms/step - loss: 0.4246 - accuracy: 0.8124 - val_loss: 1.8738 - val_accuracy: 0.6652\n",
      "Epoch 17/30\n",
      "533/533 [==============================] - 456s 856ms/step - loss: 0.4098 - accuracy: 0.8214 - val_loss: 1.7900 - val_accuracy: 0.6868\n",
      "Epoch 18/30\n",
      "533/533 [==============================] - 454s 851ms/step - loss: 0.4069 - accuracy: 0.8212 - val_loss: 1.6086 - val_accuracy: 0.7065\n",
      "Epoch 19/30\n",
      "533/533 [==============================] - 459s 862ms/step - loss: 0.3970 - accuracy: 0.8272 - val_loss: 0.8113 - val_accuracy: 0.7319\n",
      "Epoch 20/30\n",
      "533/533 [==============================] - 455s 854ms/step - loss: 0.3938 - accuracy: 0.8285 - val_loss: 1.3336 - val_accuracy: 0.6922\n",
      "Epoch 21/30\n",
      "533/533 [==============================] - 454s 851ms/step - loss: 0.3860 - accuracy: 0.8298 - val_loss: 1.5156 - val_accuracy: 0.5590\n",
      "Epoch 22/30\n",
      "533/533 [==============================] - 449s 842ms/step - loss: 0.3813 - accuracy: 0.8315 - val_loss: 1.5820 - val_accuracy: 0.6896\n",
      "Epoch 23/30\n",
      "533/533 [==============================] - 457s 857ms/step - loss: 0.3740 - accuracy: 0.8383 - val_loss: 0.9347 - val_accuracy: 0.7211\n",
      "Epoch 24/30\n",
      "533/533 [==============================] - 458s 859ms/step - loss: 0.3695 - accuracy: 0.8362 - val_loss: 1.7288 - val_accuracy: 0.4967\n",
      "Epoch 25/30\n",
      "533/533 [==============================] - 451s 847ms/step - loss: 0.3638 - accuracy: 0.8374 - val_loss: 1.0793 - val_accuracy: 0.6541\n",
      "Epoch 26/30\n",
      "533/533 [==============================] - 454s 852ms/step - loss: 0.3593 - accuracy: 0.8400 - val_loss: 1.1247 - val_accuracy: 0.7216\n",
      "Epoch 27/30\n",
      "533/533 [==============================] - 459s 861ms/step - loss: 0.3581 - accuracy: 0.8434 - val_loss: 0.6747 - val_accuracy: 0.7859\n",
      "Epoch 28/30\n",
      "533/533 [==============================] - 462s 866ms/step - loss: 0.3503 - accuracy: 0.8460 - val_loss: 1.5190 - val_accuracy: 0.5486\n",
      "Epoch 29/30\n",
      "533/533 [==============================] - 464s 871ms/step - loss: 0.3519 - accuracy: 0.8443 - val_loss: 1.4970 - val_accuracy: 0.5740\n",
      "Epoch 30/30\n",
      "533/533 [==============================] - 474s 889ms/step - loss: 0.3442 - accuracy: 0.8483 - val_loss: 1.1287 - val_accuracy: 0.7195\n"
     ]
    }
   ],
   "source": [
    "history = model.fit(\n",
    "    train_set, validation_data=validation_set, epochs=30,\n",
    "    steps_per_epoch=step_size, validation_steps=val_step,\n",
    "    class_weight=class_weight,\n",
    "                   \n",
    "                   ) "
   ]
  },
  {
   "cell_type": "code",
   "execution_count": 24,
   "metadata": {
    "execution": {
     "iopub.execute_input": "2021-01-15T18:57:05.452138Z",
     "iopub.status.busy": "2021-01-15T18:57:05.448156Z",
     "iopub.status.idle": "2021-01-15T18:57:05.453358Z",
     "shell.execute_reply": "2021-01-15T18:57:05.454206Z"
    },
    "papermill": {
     "duration": 6.443478,
     "end_time": "2021-01-15T18:57:05.454435",
     "exception": false,
     "start_time": "2021-01-15T18:56:59.010957",
     "status": "completed"
    },
    "tags": []
   },
   "outputs": [],
   "source": [
    "# copy = model"
   ]
  },
  {
   "cell_type": "code",
   "execution_count": 25,
   "metadata": {
    "collapsed": true,
    "execution": {
     "iopub.execute_input": "2021-01-15T18:57:19.005086Z",
     "iopub.status.busy": "2021-01-15T18:57:19.003917Z",
     "iopub.status.idle": "2021-01-15T18:57:19.006286Z",
     "shell.execute_reply": "2021-01-15T18:57:19.006875Z"
    },
    "papermill": {
     "duration": 6.300559,
     "end_time": "2021-01-15T18:57:19.007039",
     "exception": false,
     "start_time": "2021-01-15T18:57:12.706480",
     "status": "completed"
    },
    "tags": []
   },
   "outputs": [],
   "source": [
    "# history = model.fit(\n",
    "#     train_set, validation_data=validation_set, epochs=10,\n",
    "#     steps_per_epoch=step_size, validation_steps=val_step,\n",
    "#     class_weight=class_weight,\n",
    "                   \n",
    "#                    ) "
   ]
  },
  {
   "cell_type": "code",
   "execution_count": 26,
   "metadata": {
    "execution": {
     "iopub.execute_input": "2021-01-15T18:57:31.812510Z",
     "iopub.status.busy": "2021-01-15T18:57:31.811188Z",
     "iopub.status.idle": "2021-01-15T18:57:31.813407Z",
     "shell.execute_reply": "2021-01-15T18:57:31.813956Z"
    },
    "papermill": {
     "duration": 6.504509,
     "end_time": "2021-01-15T18:57:31.814096",
     "exception": false,
     "start_time": "2021-01-15T18:57:25.309587",
     "status": "completed"
    },
    "tags": []
   },
   "outputs": [],
   "source": [
    "# history = model.fit(\n",
    "#     train_set, validation_data=validation_set, epochs=10,\n",
    "#     steps_per_epoch=step_size, validation_steps=val_step,\n",
    "#     class_weight=class_weight,\n",
    "                   \n",
    "#                    ) "
   ]
  },
  {
   "cell_type": "code",
   "execution_count": null,
   "metadata": {
    "papermill": {
     "duration": 6.842237,
     "end_time": "2021-01-15T18:57:44.755416",
     "exception": false,
     "start_time": "2021-01-15T18:57:37.913179",
     "status": "completed"
    },
    "tags": []
   },
   "outputs": [],
   "source": []
  },
  {
   "cell_type": "code",
   "execution_count": 27,
   "metadata": {
    "execution": {
     "iopub.execute_input": "2021-01-15T18:57:57.168615Z",
     "iopub.status.busy": "2021-01-15T18:57:57.166579Z",
     "iopub.status.idle": "2021-01-15T18:57:57.169311Z",
     "shell.execute_reply": "2021-01-15T18:57:57.169837Z"
    },
    "papermill": {
     "duration": 6.391641,
     "end_time": "2021-01-15T18:57:57.169994",
     "exception": false,
     "start_time": "2021-01-15T18:57:50.778353",
     "status": "completed"
    },
    "tags": []
   },
   "outputs": [],
   "source": [
    "# !pip install -q efficientnet"
   ]
  },
  {
   "cell_type": "code",
   "execution_count": 28,
   "metadata": {
    "execution": {
     "iopub.execute_input": "2021-01-15T18:58:10.496878Z",
     "iopub.status.busy": "2021-01-15T18:58:10.494798Z",
     "iopub.status.idle": "2021-01-15T18:58:10.497678Z",
     "shell.execute_reply": "2021-01-15T18:58:10.498216Z"
    },
    "papermill": {
     "duration": 7.217726,
     "end_time": "2021-01-15T18:58:10.498413",
     "exception": false,
     "start_time": "2021-01-15T18:58:03.280687",
     "status": "completed"
    },
    "tags": []
   },
   "outputs": [],
   "source": [
    "# import efficientnet.tfkeras as efn"
   ]
  },
  {
   "cell_type": "code",
   "execution_count": 29,
   "metadata": {
    "execution": {
     "iopub.execute_input": "2021-01-15T18:58:23.566549Z",
     "iopub.status.busy": "2021-01-15T18:58:23.565404Z",
     "iopub.status.idle": "2021-01-15T18:58:23.568719Z",
     "shell.execute_reply": "2021-01-15T18:58:23.568130Z"
    },
    "papermill": {
     "duration": 6.154101,
     "end_time": "2021-01-15T18:58:23.568838",
     "exception": false,
     "start_time": "2021-01-15T18:58:17.414737",
     "status": "completed"
    },
    "tags": []
   },
   "outputs": [],
   "source": [
    "# model=tf.keras.Sequential([efn.EfficientNetB0(input_shape=(160, 160, 3),\n",
    "#                                              weights=\"imagenet\",\n",
    "#                                              include_top=False),\n",
    "#                            tf.keras.layers.Flatten(),\n",
    "#                            tf.keras.layers.Dense(1024, activation=\"relu\"),\n",
    "#                            tf.keras.layers.Dropout(0.3),\n",
    "#                            tf.keras.layers.Dense(NUM_CLASSES,activation=\"softmax\")\n",
    "                                             \n",
    "# ])\n",
    "\n",
    "# model.compile(optimizer=tf.keras.optimizers.Adam(learning_rate=0.1),\n",
    "#               loss=\"categorical_crossentropy\", metrics=[\"acc\"])"
   ]
  },
  {
   "cell_type": "code",
   "execution_count": 30,
   "metadata": {
    "execution": {
     "iopub.execute_input": "2021-01-15T18:58:36.014294Z",
     "iopub.status.busy": "2021-01-15T18:58:36.013247Z",
     "iopub.status.idle": "2021-01-15T18:58:36.015933Z",
     "shell.execute_reply": "2021-01-15T18:58:36.016573Z"
    },
    "papermill": {
     "duration": 6.114505,
     "end_time": "2021-01-15T18:58:36.016714",
     "exception": false,
     "start_time": "2021-01-15T18:58:29.902209",
     "status": "completed"
    },
    "tags": []
   },
   "outputs": [],
   "source": [
    "# history = model.fit(train_set, validation_data=validation_set, epochs=10,\n",
    "#                     steps_per_epoch=step_size, validation_steps=val_step) "
   ]
  },
  {
   "cell_type": "code",
   "execution_count": 31,
   "metadata": {
    "execution": {
     "iopub.execute_input": "2021-01-15T18:58:49.377390Z",
     "iopub.status.busy": "2021-01-15T18:58:49.376612Z",
     "iopub.status.idle": "2021-01-15T18:58:49.669802Z",
     "shell.execute_reply": "2021-01-15T18:58:49.669125Z"
    },
    "papermill": {
     "duration": 7.190521,
     "end_time": "2021-01-15T18:58:49.669940",
     "exception": false,
     "start_time": "2021-01-15T18:58:42.479419",
     "status": "completed"
    },
    "tags": []
   },
   "outputs": [
    {
     "data": {
      "image/png": "[encoded data removed]",
      "text/plain": [
       "<Figure size 432x288 with 1 Axes>"
      ]
     },
     "metadata": {
      "needs_background": "light"
     },
     "output_type": "display_data"
    }
   ],
   "source": [
    "acc = history.history['accuracy']\n",
    "val_acc = history.history['val_accuracy']\n",
    "\n",
    "epochs = range(len(acc))\n",
    "\n",
    "plt.plot(epochs, acc, 'r', label='Training accuracy')\n",
    "plt.plot(epochs, val_acc, 'b', label='Validation accuracy')\n",
    "\n",
    "plt.xlabel('Epochs')\n",
    "plt.ylabel('Accuracy')\n",
    "plt.title('Training and validation accuracy')\n",
    "plt.legend(loc=0)\n",
    "plt.grid(axis='both')\n",
    "\n",
    "plt.show() "
   ]
  },
  {
   "cell_type": "code",
   "execution_count": 32,
   "metadata": {
    "execution": {
     "iopub.execute_input": "2021-01-15T18:59:02.178882Z",
     "iopub.status.busy": "2021-01-15T18:59:02.178075Z",
     "iopub.status.idle": "2021-01-15T18:59:02.189740Z",
     "shell.execute_reply": "2021-01-15T18:59:02.188303Z"
    },
    "papermill": {
     "duration": 6.396366,
     "end_time": "2021-01-15T18:59:02.189869",
     "exception": false,
     "start_time": "2021-01-15T18:58:55.793503",
     "status": "completed"
    },
    "tags": []
   },
   "outputs": [],
   "source": [
    "sample = pd.read_csv('../input/cassava-leaf-disease-classification/sample_submission.csv')\n",
    "# sample.head()"
   ]
  },
  {
   "cell_type": "code",
   "execution_count": 33,
   "metadata": {
    "execution": {
     "iopub.execute_input": "2021-01-15T18:59:15.740343Z",
     "iopub.status.busy": "2021-01-15T18:59:15.739451Z",
     "iopub.status.idle": "2021-01-15T18:59:15.742465Z",
     "shell.execute_reply": "2021-01-15T18:59:15.741940Z"
    },
    "papermill": {
     "duration": 7.016157,
     "end_time": "2021-01-15T18:59:15.742575",
     "exception": false,
     "start_time": "2021-01-15T18:59:08.726418",
     "status": "completed"
    },
    "tags": []
   },
   "outputs": [],
   "source": [
    "# img = Image.open('../input/cassava-leaf-disease-classification/train_images/1001320321.jpg')\n",
    "# img = img.resize(image_shape)\n",
    "# img = np.expand_dims(img,axis=0)\n",
    "# y_pred = model.predict(img)"
   ]
  },
  {
   "cell_type": "code",
   "execution_count": 34,
   "metadata": {
    "execution": {
     "iopub.execute_input": "2021-01-15T18:59:28.919684Z",
     "iopub.status.busy": "2021-01-15T18:59:28.918625Z",
     "iopub.status.idle": "2021-01-15T18:59:28.921961Z",
     "shell.execute_reply": "2021-01-15T18:59:28.921374Z"
    },
    "papermill": {
     "duration": 6.342164,
     "end_time": "2021-01-15T18:59:28.922074",
     "exception": false,
     "start_time": "2021-01-15T18:59:22.579910",
     "status": "completed"
    },
    "tags": []
   },
   "outputs": [],
   "source": [
    "# model.evaluate(train_set) "
   ]
  },
  {
   "cell_type": "code",
   "execution_count": 35,
   "metadata": {
    "execution": {
     "iopub.execute_input": "2021-01-15T18:59:41.317656Z",
     "iopub.status.busy": "2021-01-15T18:59:41.316676Z",
     "iopub.status.idle": "2021-01-15T19:00:14.548709Z",
     "shell.execute_reply": "2021-01-15T19:00:14.547903Z"
    },
    "papermill": {
     "duration": 39.326213,
     "end_time": "2021-01-15T19:00:14.548893",
     "exception": false,
     "start_time": "2021-01-15T18:59:35.222680",
     "status": "completed"
    },
    "tags": []
   },
   "outputs": [],
   "source": [
    "tf.keras.models.save_model(model, './Model') "
   ]
  },
  {
   "cell_type": "code",
   "execution_count": 36,
   "metadata": {
    "execution": {
     "iopub.execute_input": "2021-01-15T19:00:28.007485Z",
     "iopub.status.busy": "2021-01-15T19:00:28.006637Z",
     "iopub.status.idle": "2021-01-15T19:00:28.133403Z",
     "shell.execute_reply": "2021-01-15T19:00:28.132735Z"
    },
    "papermill": {
     "duration": 6.98809,
     "end_time": "2021-01-15T19:00:28.133529",
     "exception": false,
     "start_time": "2021-01-15T19:00:21.145439",
     "status": "completed"
    },
    "tags": []
   },
   "outputs": [],
   "source": [
    "train.to_csv('./sub.csv')"
   ]
  },
  {
   "cell_type": "code",
   "execution_count": null,
   "metadata": {
    "papermill": {
     "duration": 6.322306,
     "end_time": "2021-01-15T19:00:40.812830",
     "exception": false,
     "start_time": "2021-01-15T19:00:34.490524",
     "status": "completed"
    },
    "tags": []
   },
   "outputs": [],
   "source": []
  },
  {
   "cell_type": "code",
   "execution_count": null,
   "metadata": {
    "papermill": {
     "duration": 6.394336,
     "end_time": "2021-01-15T19:00:53.311022",
     "exception": false,
     "start_time": "2021-01-15T19:00:46.916686",
     "status": "completed"
    },
    "tags": []
   },
   "outputs": [],
   "source": []
  },
  {
   "cell_type": "code",
   "execution_count": 37,
   "metadata": {
    "execution": {
     "iopub.execute_input": "2021-01-15T19:01:06.999591Z",
     "iopub.status.busy": "2021-01-15T19:01:06.997907Z",
     "iopub.status.idle": "2021-01-15T19:01:07.000342Z",
     "shell.execute_reply": "2021-01-15T19:01:07.000847Z"
    },
    "papermill": {
     "duration": 6.999802,
     "end_time": "2021-01-15T19:01:07.000983",
     "exception": false,
     "start_time": "2021-01-15T19:01:00.001181",
     "status": "completed"
    },
    "tags": []
   },
   "outputs": [],
   "source": [
    "# pretrained_model = tf.keras.applications.Xception(\n",
    "#         weights='imagenet',\n",
    "#         include_top=False ,\n",
    "#         input_shape=(224,224,3)\n",
    "#     )\n",
    "# pretrained_model.trainable = False\n",
    "\n",
    "# model = tf.keras.Sequential([\n",
    "#     pretrained_model, \n",
    "#     tf.keras.layers.GlobalAveragePooling2D(),\n",
    "#     tf.keras.layers.Dense(NUM_CLASSES, activation='softmax')\n",
    "#     ])"
   ]
  },
  {
   "cell_type": "code",
   "execution_count": 38,
   "metadata": {
    "execution": {
     "iopub.execute_input": "2021-01-15T19:01:20.298864Z",
     "iopub.status.busy": "2021-01-15T19:01:20.297766Z",
     "iopub.status.idle": "2021-01-15T19:01:20.299783Z",
     "shell.execute_reply": "2021-01-15T19:01:20.300289Z"
    },
    "papermill": {
     "duration": 6.134994,
     "end_time": "2021-01-15T19:01:20.300440",
     "exception": false,
     "start_time": "2021-01-15T19:01:14.165446",
     "status": "completed"
    },
    "tags": []
   },
   "outputs": [],
   "source": [
    "# model.compile(loss='categorical_crossentropy', \n",
    "#               optimizer=\"adam\",#lr=1e-4, momentum=0.9),\n",
    "#               metrics=['accuracy'])\n",
    "\n",
    "# history = model.fit(train_set, validation_data=validation_set, epochs=3,\n",
    "#                     steps_per_epoch=step_size, validation_steps=val_step)\n"
   ]
  },
  {
   "cell_type": "code",
   "execution_count": null,
   "metadata": {
    "papermill": {
     "duration": 6.822371,
     "end_time": "2021-01-15T19:01:33.450548",
     "exception": false,
     "start_time": "2021-01-15T19:01:26.628177",
     "status": "completed"
    },
    "tags": []
   },
   "outputs": [],
   "source": []
  },
  {
   "cell_type": "code",
   "execution_count": null,
   "metadata": {
    "papermill": {
     "duration": 6.484213,
     "end_time": "2021-01-15T19:01:46.238987",
     "exception": false,
     "start_time": "2021-01-15T19:01:39.754774",
     "status": "completed"
    },
    "tags": []
   },
   "outputs": [],
   "source": []
  },
  {
   "cell_type": "code",
   "execution_count": null,
   "metadata": {
    "papermill": {
     "duration": 6.279301,
     "end_time": "2021-01-15T19:01:58.683532",
     "exception": false,
     "start_time": "2021-01-15T19:01:52.404231",
     "status": "completed"
    },
    "tags": []
   },
   "outputs": [],
   "source": []
  },
  {
   "cell_type": "code",
   "execution_count": 39,
   "metadata": {
    "execution": {
     "iopub.execute_input": "2021-01-15T19:02:12.726629Z",
     "iopub.status.busy": "2021-01-15T19:02:12.725562Z",
     "iopub.status.idle": "2021-01-15T19:02:12.727586Z",
     "shell.execute_reply": "2021-01-15T19:02:12.728210Z"
    },
    "papermill": {
     "duration": 7.538365,
     "end_time": "2021-01-15T19:02:12.728357",
     "exception": false,
     "start_time": "2021-01-15T19:02:05.189992",
     "status": "completed"
    },
    "tags": []
   },
   "outputs": [],
   "source": [
    "# from tensorflow.keras.applications.inception_v3 import preprocess_input\n",
    "# from tensorflow.keras import applications\n",
    "# from tensorflow.keras import optimizers"
   ]
  },
  {
   "cell_type": "code",
   "execution_count": 40,
   "metadata": {
    "execution": {
     "iopub.execute_input": "2021-01-15T19:02:25.328566Z",
     "iopub.status.busy": "2021-01-15T19:02:25.326959Z",
     "iopub.status.idle": "2021-01-15T19:02:25.329284Z",
     "shell.execute_reply": "2021-01-15T19:02:25.329788Z"
    },
    "papermill": {
     "duration": 6.08325,
     "end_time": "2021-01-15T19:02:25.329911",
     "exception": false,
     "start_time": "2021-01-15T19:02:19.246661",
     "status": "completed"
    },
    "tags": []
   },
   "outputs": [],
   "source": [
    "# base_model = applications.InceptionV3(weights='imagenet', \n",
    "#                                 include_top=False, \n",
    "#                                 input_shape=(150, 150,3))\n",
    "# base_model.trainable = False\n",
    "\n",
    "# add_model = Sequential()\n",
    "# add_model.add(base_model)\n",
    "# add_model.add(GlobalAveragePooling2D())\n",
    "# add_model.add(Dropout(0.5))\n",
    "# add_model.add(Dense(NUM_CLASSES, \n",
    "#                     activation='softmax'))\n",
    "\n",
    "# model = add_model"
   ]
  },
  {
   "cell_type": "code",
   "execution_count": 41,
   "metadata": {
    "execution": {
     "iopub.execute_input": "2021-01-15T19:02:37.795083Z",
     "iopub.status.busy": "2021-01-15T19:02:37.793847Z",
     "iopub.status.idle": "2021-01-15T19:02:37.796916Z",
     "shell.execute_reply": "2021-01-15T19:02:37.796030Z"
    },
    "papermill": {
     "duration": 6.108865,
     "end_time": "2021-01-15T19:02:37.797089",
     "exception": false,
     "start_time": "2021-01-15T19:02:31.688224",
     "status": "completed"
    },
    "tags": []
   },
   "outputs": [],
   "source": [
    "# model.compile(loss='categorical_crossentropy', \n",
    "#               optimizer=optimizers.Adam(),#lr=1e-4, momentum=0.9),\n",
    "#               metrics=['accuracy'])"
   ]
  },
  {
   "cell_type": "code",
   "execution_count": 42,
   "metadata": {
    "execution": {
     "iopub.execute_input": "2021-01-15T19:02:51.062825Z",
     "iopub.status.busy": "2021-01-15T19:02:51.060647Z",
     "iopub.status.idle": "2021-01-15T19:02:51.063610Z",
     "shell.execute_reply": "2021-01-15T19:02:51.064143Z"
    },
    "papermill": {
     "duration": 6.486985,
     "end_time": "2021-01-15T19:02:51.064283",
     "exception": false,
     "start_time": "2021-01-15T19:02:44.577298",
     "status": "completed"
    },
    "tags": []
   },
   "outputs": [],
   "source": [
    "# # story = model.fit(train_set, \n",
    "# #                               epochs=2, \n",
    "# # #                               shuffle=True, \n",
    "# # #                               verbose=True,\n",
    "# # #                               callbacks=callbacks_list\n",
    "# #                  )\n",
    "\n",
    "# history = model.fit(train_set, validation_data=validation_set, epochs=10,\n",
    "#                     steps_per_epoch=step_size, validation_steps=val_step)"
   ]
  },
  {
   "cell_type": "code",
   "execution_count": null,
   "metadata": {
    "papermill": {
     "duration": 6.347915,
     "end_time": "2021-01-15T19:03:03.607568",
     "exception": false,
     "start_time": "2021-01-15T19:02:57.259653",
     "status": "completed"
    },
    "tags": []
   },
   "outputs": [],
   "source": []
  }
 ],
 "metadata": {
  "kernelspec": {
   "display_name": "Python 3",
   "language": "python",
   "name": "python3"
  },
  "language_info": {
   "codemirror_mode": {
    "name": "ipython",
    "version": 3
   },
   "file_extension": ".py",
   "mimetype": "text/x-python",
   "name": "python",
   "nbconvert_exporter": "python",
   "pygments_lexer": "ipython3",
   "version": "3.7.6"
  },
  "papermill": {
   "duration": 14235.557348,
   "end_time": "2021-01-15T19:03:12.585498",
   "environment_variables": {},
   "exception": null,
   "input_path": "__notebook__.ipynb",
   "output_path": "__notebook__.ipynb",
   "parameters": {},
   "start_time": "2021-01-15T15:05:57.028150",
   "version": "2.1.0"
  }
 },
 "nbformat": 4,
 "nbformat_minor": 4
}
